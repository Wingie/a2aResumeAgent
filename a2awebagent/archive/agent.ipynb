{
 "cells": [
  {
   "cell_type": "code",
   "execution_count": null,
   "id": "b2c4fc15",
   "metadata": {},
   "outputs": [],
   "source": [
    "1+1\n"
   ]
  }
 ],
 "metadata": {
  "language_info": {
   "name": "python"
  }
 },
 "nbformat": 4,
 "nbformat_minor": 5
}
